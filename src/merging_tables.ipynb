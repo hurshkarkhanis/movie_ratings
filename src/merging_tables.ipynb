{
 "cells": [
  {
   "cell_type": "code",
   "execution_count": 1,
   "metadata": {},
   "outputs": [],
   "source": [
    "import pandas as pd\n",
    "import matplotlib.pyplot as plt\n",
    "from functools import reduce\n",
    "import numpy as np"
   ]
  },
  {
   "cell_type": "code",
   "execution_count": 2,
   "metadata": {},
   "outputs": [
    {
     "name": "stderr",
     "output_type": "stream",
     "text": [
      "/Library/Frameworks/Python.framework/Versions/3.8/lib/python3.8/site-packages/IPython/core/interactiveshell.py:3062: DtypeWarning: Columns (7) have mixed types.Specify dtype option on import or set low_memory=False.\n",
      "  has_raised = await self.run_ast_nodes(code_ast.body, cell_name,\n",
      "/Library/Frameworks/Python.framework/Versions/3.8/lib/python3.8/site-packages/IPython/core/interactiveshell.py:3062: DtypeWarning: Columns (5) have mixed types.Specify dtype option on import or set low_memory=False.\n",
      "  has_raised = await self.run_ast_nodes(code_ast.body, cell_name,\n"
     ]
    }
   ],
   "source": [
    "#importing 4 IMDB datasets into pandas\n",
    "titles = pd.read_csv(\"../data/title.akas.tsv\", delimiter = \"\\t\")\n",
    "basics = pd.read_csv(\"../data/title.basics.tsv\", delimiter = \"\\t\")\n",
    "crew = pd.read_csv(\"../data/title.crew.tsv\", delimiter = \"\\t\")\n",
    "ratings = pd.read_csv(\"../data/title.ratings.tsv\", delimiter = \"\\t\")"
   ]
  },
  {
   "cell_type": "code",
   "execution_count": 3,
   "metadata": {},
   "outputs": [],
   "source": [
    "#many of the rows in the titles data set were repeats since there was one row for each title of the movie\n",
    "#ex: An American movie would have a different name overseas, and would be listed in its own row\n",
    "titles = titles[titles['types'] == 'original']\n",
    "\n",
    "#setting column names to stat consistent with other data files\n",
    "titles.columns = ['id', 'ordering', 'title', 'region', 'language', 'types',\n",
    "       'attributes', 'isOriginalTitle']\n",
    "basics.columns = ['id', 'titleType', 'primaryTitle', 'originalTitle', 'isAdult',\n",
    "       'startYear', 'endYear', 'runtimeMinutes', 'genres']\n",
    "\n",
    "crew.columns = ['id', 'directors', 'writers']\n",
    "ratings.columns = ['id', 'averageRating', 'numVotes']"
   ]
  },
  {
   "cell_type": "code",
   "execution_count": 4,
   "metadata": {},
   "outputs": [],
   "source": [
    "#merging 4 data frames on the 'id' column\n",
    "data_frames = [titles, basics, crew, ratings]\n",
    "data = reduce(lambda  left,right: pd.merge(left,right,on=['id'], how='outer'), data_frames)"
   ]
  },
  {
   "cell_type": "code",
   "execution_count": 5,
   "metadata": {},
   "outputs": [],
   "source": [
    "#dropping rows with no title, not sure how that happend, but I still have close to half a million rows\n",
    "data = data.drop(data.tail(6620615).index,inplace=False) "
   ]
  },
  {
   "cell_type": "code",
   "execution_count": 6,
   "metadata": {},
   "outputs": [],
   "source": [
    "#replacing \\N entried with NaN, might change later\n",
    "data = data.replace('\\\\N', np.NaN)"
   ]
  },
  {
   "cell_type": "code",
   "execution_count": 7,
   "metadata": {},
   "outputs": [],
   "source": [
    "#putting my marged dataset into a csv file that is ready for use\n",
    "data.to_csv('../data/data_file.csv')"
   ]
  },
  {
   "cell_type": "code",
   "execution_count": null,
   "metadata": {},
   "outputs": [],
   "source": []
  }
 ],
 "metadata": {
  "kernelspec": {
   "display_name": "Python 3",
   "language": "python",
   "name": "python3"
  },
  "language_info": {
   "codemirror_mode": {
    "name": "ipython",
    "version": 3
   },
   "file_extension": ".py",
   "mimetype": "text/x-python",
   "name": "python",
   "nbconvert_exporter": "python",
   "pygments_lexer": "ipython3",
   "version": "3.8.2"
  }
 },
 "nbformat": 4,
 "nbformat_minor": 4
}
