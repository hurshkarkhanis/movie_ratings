{
 "cells": [
  {
   "cell_type": "code",
   "execution_count": null,
   "metadata": {},
   "outputs": [],
   "source": [
    "import pandas as pd\n",
    "import numpy as np\n",
    "import matplotlib.pyplot as plt\n",
    "from tabulate import tabulate\n",
    "\n",
    "\n",
    "import seaborn as sns\n",
    "\n",
    "plt.style.use('fivethirtyeight')\n",
    "\n",
    "from bs4 import BeautifulSoup\n",
    "import requests"
   ]
  },
  {
   "cell_type": "code",
   "execution_count": null,
   "metadata": {},
   "outputs": [],
   "source": [
    "data = pd.read_csv('../data/data_file.csv')\n",
    "movies = data"
   ]
  },
  {
   "cell_type": "markdown",
   "metadata": {},
   "source": [
    "## Dropping unwanted columns, only keeping full length movies, creating score metric"
   ]
  },
  {
   "cell_type": "code",
   "execution_count": null,
   "metadata": {},
   "outputs": [],
   "source": [
    "#drop cols with very little data\n",
    "movies = data.drop(['region', 'language', 'attributes', 'endYear','Unnamed: 0', \n",
    "                  'types','isOriginalTitle', 'primaryTitle', 'isAdult', 'ordering'], axis=1)\n",
    "#drop rows with Nan values\n",
    "movies = movies.dropna()\n",
    "\n",
    "#only keep full length movies, no TV episodes, no short films, no video games, etc\n",
    "movies = movies[movies['titleType'] == 'movie']\n",
    "\n",
    "#making two cols integers instead of floats\n",
    "movies.startYear = movies.startYear.astype(int)\n",
    "movies.runtimeMinutes = movies.runtimeMinutes.astype(int)\n",
    "\n",
    "#creating a score metric that places movies voted on more higher than movies voted on less\n",
    "movies['score'] = (movies['averageRating']-5.0) * movies['numVotes']"
   ]
  },
  {
   "cell_type": "code",
   "execution_count": null,
   "metadata": {},
   "outputs": [],
   "source": [
    "movies['writers'] = movies['writers'].str.split(',', expand=True)\n",
    "movies['directors'] = movies['directors'].str.split(',', expand=True)\n",
    "movies['genres'] = movies['genres'].str.split(',', expand=True)"
   ]
  },
  {
   "cell_type": "markdown",
   "metadata": {},
   "source": [
    "## Functions to make it easier to get information"
   ]
  },
  {
   "cell_type": "code",
   "execution_count": null,
   "metadata": {},
   "outputs": [],
   "source": [
    "def frequency_dict(pandas_series):\n",
    "    out_dict = {}\n",
    "    for x in pandas_series:\n",
    "        if x in out_dict:\n",
    "            out_dict[x] +=1\n",
    "        else:\n",
    "            out_dict[x] = 1\n",
    "    return {k: v for k, v in sorted(out_dict.items(), key=lambda item: item[1], reverse=True)}"
   ]
  },
  {
   "cell_type": "code",
   "execution_count": null,
   "metadata": {},
   "outputs": [],
   "source": [
    "#all the writers, directors, and title are identified by a unique ID in the IMDB database\n",
    "#ex: Martin Scorsese is identified as 'nm0000217'\n",
    "#this is a function that takes in a unique ID,\n",
    "# web scrapes that IMDB url for a speficic html tag that \n",
    "#contains the person's/movie's name\n",
    "def get_name(ID):\n",
    "    url = 'https://www.imdb.com/name/'+ ID\n",
    "    r  = requests.get(url)\n",
    "    data = r.text\n",
    "    soup = BeautifulSoup(data, \"html.parser\")\n",
    "    mydivs = soup.find(\"span\", {\"class\": \"itemprop\"})\n",
    "    return str(mydivs.contents[0])"
   ]
  },
  {
   "cell_type": "code",
   "execution_count": null,
   "metadata": {},
   "outputs": [],
   "source": [
    "def homemade_hist(dictionary, title, color, fig_w=13, fig_h=10):\n",
    "    fig, ax = plt.subplots(figsize=(fig_w, fig_h))\n",
    "    names = []\n",
    "    counts = []\n",
    "    for name, count in zip(dictionary.keys(), dictionary.values()):\n",
    "        names.append(get_name(name))\n",
    "        counts.append(count)\n",
    "    \n",
    "    out = ax.bar(names, counts, color = color)\n",
    "    ax.set_xticklabels(names, fontsize=10)\n",
    "    ax.set_title(title)\n",
    "\n",
    "    return out\n",
    "\n",
    "def homemade_hist_with_name(dictionary, title, color, fig_w=13, fig_h=10):\n",
    "    fig, ax = plt.subplots(figsize=(fig_w, fig_h))\n",
    "    names = []\n",
    "    counts = []\n",
    "    for name, count in zip(dictionary.keys(), dictionary.values()):\n",
    "        names.append(name)\n",
    "        counts.append(count)\n",
    "    \n",
    "    out = ax.bar(names, counts, color = color)\n",
    "    ax.set_xticklabels(names, fontsize=10)\n",
    "    ax.set_title(title)\n",
    "\n",
    "    return out"
   ]
  },
  {
   "cell_type": "markdown",
   "metadata": {},
   "source": [
    "## Finding notables\n",
    "\n",
    "Top x movies, bottom x movies, most occuring writers/directors, best years, worst years"
   ]
  },
  {
   "cell_type": "code",
   "execution_count": null,
   "metadata": {},
   "outputs": [],
   "source": [
    "top = movies.sort_values(by=['score'], ascending=False).head(15)\n",
    "bot = movies.sort_values(by=['score'], ascending=True).head(15)"
   ]
  },
  {
   "cell_type": "code",
   "execution_count": null,
   "metadata": {},
   "outputs": [],
   "source": [
    "top_directors = frequency_dict(top_20['directors'])\n",
    "top_writers = frequency_dict(top_20['writers'])"
   ]
  },
  {
   "cell_type": "code",
   "execution_count": null,
   "metadata": {},
   "outputs": [],
   "source": [
    "most_frequent_genres = frequency_dict(top_20['genres'])"
   ]
  },
  {
   "cell_type": "code",
   "execution_count": null,
   "metadata": {},
   "outputs": [],
   "source": [
    "bot_directors = frequency_dict(bot_20['directors'])\n",
    "bot_writers = frequency_dict(bot_20['writers'])"
   ]
  },
  {
   "cell_type": "code",
   "execution_count": null,
   "metadata": {},
   "outputs": [],
   "source": [
    "best_years = frequency_dict(top_20['startYear'])\n",
    "worst_years = frequency_dict(bot_20['startYear'])"
   ]
  },
  {
   "cell_type": "markdown",
   "metadata": {},
   "source": [
    "## Official EDA Graphs and tables"
   ]
  },
  {
   "cell_type": "code",
   "execution_count": null,
   "metadata": {},
   "outputs": [],
   "source": [
    "movies"
   ]
  },
  {
   "cell_type": "code",
   "execution_count": null,
   "metadata": {},
   "outputs": [],
   "source": [
    "bot"
   ]
  },
  {
   "cell_type": "code",
   "execution_count": null,
   "metadata": {},
   "outputs": [],
   "source": [
    "homemade_hist(top_directors, 'Directors by # of Titles in Top 15', '#F58426')"
   ]
  },
  {
   "cell_type": "code",
   "execution_count": null,
   "metadata": {
    "scrolled": true
   },
   "outputs": [],
   "source": [
    "homemade_hist(top_writers, 'Writers by # of Titles in Top 15', '#552583')"
   ]
  },
  {
   "cell_type": "code",
   "execution_count": null,
   "metadata": {},
   "outputs": [],
   "source": [
    "homemade_hist_with_name(most_frequent_genres, 'Most Frequent Genres in Top 15', '#00788C')"
   ]
  },
  {
   "cell_type": "code",
   "execution_count": null,
   "metadata": {},
   "outputs": [],
   "source": [
    "x = list(range(movies['score'].size))"
   ]
  },
  {
   "cell_type": "code",
   "execution_count": null,
   "metadata": {},
   "outputs": [],
   "source": [
    "y = movies['score']"
   ]
  },
  {
   "cell_type": "code",
   "execution_count": null,
   "metadata": {},
   "outputs": [],
   "source": [
    "y.size"
   ]
  },
  {
   "cell_type": "code",
   "execution_count": null,
   "metadata": {},
   "outputs": [],
   "source": [
    "len(x)"
   ]
  },
  {
   "cell_type": "code",
   "execution_count": null,
   "metadata": {},
   "outputs": [],
   "source": [
    "fig, ax = plt.subplots(figsize=(13, 10))\n",
    "ax.scatter(x, y, color='#BA9653')\n",
    "ax.set_title('Scores of Titles')"
   ]
  },
  {
   "cell_type": "code",
   "execution_count": null,
   "metadata": {},
   "outputs": [],
   "source": []
  },
  {
   "cell_type": "code",
   "execution_count": null,
   "metadata": {},
   "outputs": [],
   "source": []
  }
 ],
 "metadata": {
  "kernelspec": {
   "display_name": "Python 3",
   "language": "python",
   "name": "python3"
  },
  "language_info": {
   "codemirror_mode": {
    "name": "ipython",
    "version": 3
   },
   "file_extension": ".py",
   "mimetype": "text/x-python",
   "name": "python",
   "nbconvert_exporter": "python",
   "pygments_lexer": "ipython3",
   "version": "3.8.2"
  }
 },
 "nbformat": 4,
 "nbformat_minor": 4
}
