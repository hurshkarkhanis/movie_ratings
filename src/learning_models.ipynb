{
 "cells": [
  {
   "cell_type": "code",
   "execution_count": 1,
   "metadata": {},
   "outputs": [],
   "source": [
    "import pandas as pd\n",
    "from sklearn.linear_model import LinearRegression\n",
    "from sklearn.model_selection import train_test_split, KFold\n",
    "import numpy as np"
   ]
  },
  {
   "cell_type": "code",
   "execution_count": 7,
   "metadata": {},
   "outputs": [],
   "source": [
    "movies = pd.read_csv(\"../data/movies.csv\")"
   ]
  },
  {
   "cell_type": "code",
   "execution_count": 9,
   "metadata": {},
   "outputs": [],
   "source": [
    "mean_rating = movies['averageRating'].mean()"
   ]
  },
  {
   "cell_type": "code",
   "execution_count": 10,
   "metadata": {},
   "outputs": [
    {
     "data": {
      "text/plain": [
       "6.063703522333765"
      ]
     },
     "execution_count": 10,
     "metadata": {},
     "output_type": "execute_result"
    }
   ],
   "source": [
    "mean_rating"
   ]
  },
  {
   "cell_type": "code",
   "execution_count": 12,
   "metadata": {},
   "outputs": [],
   "source": [
    "movies['error'] = mean_rating - movies['averageRating']"
   ]
  },
  {
   "cell_type": "code",
   "execution_count": 24,
   "metadata": {},
   "outputs": [
    {
     "data": {
      "text/plain": [
       "<function __main__.get_rmse()>"
      ]
     },
     "execution_count": 24,
     "metadata": {},
     "output_type": "execute_result"
    }
   ],
   "source": [
    "get_rmse"
   ]
  },
  {
   "cell_type": "code",
   "execution_count": 30,
   "metadata": {},
   "outputs": [],
   "source": [
    "def rmse():\n",
    "    out = 0\n",
    "    for x in movies['error']:\n",
    "        out += x**2\n",
    "\n",
    "    return (out/movies['error'].size)**(0.5)"
   ]
  },
  {
   "cell_type": "code",
   "execution_count": 31,
   "metadata": {},
   "outputs": [
    {
     "data": {
      "text/plain": [
       "1.2180205652684748"
      ]
     },
     "execution_count": 31,
     "metadata": {},
     "output_type": "execute_result"
    }
   ],
   "source": [
    "rmse()"
   ]
  },
  {
   "cell_type": "code",
   "execution_count": null,
   "metadata": {},
   "outputs": [],
   "source": []
  },
  {
   "cell_type": "code",
   "execution_count": null,
   "metadata": {},
   "outputs": [],
   "source": []
  },
  {
   "cell_type": "code",
   "execution_count": null,
   "metadata": {},
   "outputs": [],
   "source": []
  },
  {
   "cell_type": "code",
   "execution_count": null,
   "metadata": {},
   "outputs": [],
   "source": []
  },
  {
   "cell_type": "code",
   "execution_count": null,
   "metadata": {},
   "outputs": [],
   "source": []
  },
  {
   "cell_type": "raw",
   "metadata": {},
   "source": [
    "movies['id'] = movies['id'].str.slice(start=2)\n",
    "movies['directors'] = movies['directors'].str.slice(start=2)\n",
    "movies['writers']= movies['writers'].str.slice(start=2)\n",
    "\n",
    "\n",
    "\n",
    "movies['id'] = pd.to_numeric(movies['id'])\n",
    "movies['directors'] = pd.to_numeric(movies['directors'])\n",
    "movies['writers'] = pd.to_numeric(movies['writers'])\n",
    "\n",
    "x = pd.get_dummies(movies['genres'])\n",
    "frames = [movies, x]\n",
    "movies = pd.concat(frames, axis=1)\n"
   ]
  },
  {
   "cell_type": "raw",
   "metadata": {},
   "source": []
  },
  {
   "cell_type": "raw",
   "metadata": {},
   "source": [
    "## Starting Learning algos HERE"
   ]
  },
  {
   "cell_type": "raw",
   "metadata": {},
   "source": [
    "X = movies[['id', 'startYear', 'runtimeMinutes','directors', 'writers', 'Action', 'Adult', 'Adventure', 'Animation',\n",
    "       'Biography', 'Comedy', 'Crime', 'Documentary', 'Drama', 'Family',\n",
    "       'Fantasy', 'Film-Noir', 'History', 'Horror', 'Music', 'Musical',\n",
    "       'Mystery', 'Reality-TV', 'Romance', 'Sci-Fi', 'Sport', 'Thriller',\n",
    "       'War', 'Western']]\n",
    "\n",
    "X = movies[['id', 'startYear', 'runtimeMinutes','directors', 'writers']]\n",
    "\n",
    "\n",
    "\n",
    "y = movies['score']"
   ]
  },
  {
   "cell_type": "raw",
   "metadata": {},
   "source": [
    "y"
   ]
  },
  {
   "cell_type": "raw",
   "metadata": {},
   "source": [
    "X_train, X_test, y_train, y_test = train_test_split(X, y)\n",
    "model = LinearRegression()\n",
    "model.fit(X_train, y_train)\n",
    "print(\"R^2 on training data: {}\".format(model.score(X_train, y_train).round(5)))\n",
    "print(\"R^2 on testing data:  {}\".format(model.score(X_test, y_test).round(5)))"
   ]
  },
  {
   "cell_type": "code",
   "execution_count": null,
   "metadata": {},
   "outputs": [],
   "source": []
  }
 ],
 "metadata": {
  "kernelspec": {
   "display_name": "Python 3",
   "language": "python",
   "name": "python3"
  },
  "language_info": {
   "codemirror_mode": {
    "name": "ipython",
    "version": 3
   },
   "file_extension": ".py",
   "mimetype": "text/x-python",
   "name": "python",
   "nbconvert_exporter": "python",
   "pygments_lexer": "ipython3",
   "version": "3.8.2"
  }
 },
 "nbformat": 4,
 "nbformat_minor": 4
}
