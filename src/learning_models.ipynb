{
 "cells": [
  {
   "cell_type": "markdown",
   "metadata": {},
   "source": [
    "# Learning Models"
   ]
  },
  {
   "cell_type": "code",
   "execution_count": 1,
   "metadata": {},
   "outputs": [],
   "source": [
    "import pandas as pd\n",
    "from sklearn.linear_model import LinearRegression\n",
    "from sklearn.model_selection import train_test_split, KFold\n",
    "import numpy as np"
   ]
  },
  {
   "cell_type": "code",
   "execution_count": 47,
   "metadata": {},
   "outputs": [],
   "source": [
    "movies = pd.read_csv(\"../data/movies.csv\")\n",
    "\n",
    "#getting the top 10K films of all time\n",
    "movies = movies.sort_values(by=['score'], ascending=False).head(10000)"
   ]
  },
  {
   "cell_type": "code",
   "execution_count": 8,
   "metadata": {},
   "outputs": [],
   "source": [
    "#getting the writers and directors from the top 250 films of all time. These are the top 1% of\n",
    "#Hollywood and they are the only ones that matter\n",
    "best_directors = movies.sort_values(by=['score', 'directors'], ascending=False).head(250)['directors'].unique().tolist()\n",
    "best_writers = movies.sort_values(by=['score', 'writers'], ascending=False).head(250)['writers'].unique().tolist()\n",
    "\n",
    "#the bottom 99% will do into these replaceable lists\n",
    "replacable_directors = []\n",
    "replacable_writers = []\n",
    "\n",
    "for x in movies['directors']:\n",
    "    if x not in best_directors:\n",
    "        replacable_directors.append(x)\n",
    "        \n",
    "for x in movies['writers']:\n",
    "    if x not in best_directors:\n",
    "        replacable_writers.append(x)       "
   ]
  },
  {
   "cell_type": "code",
   "execution_count": 10,
   "metadata": {},
   "outputs": [],
   "source": [
    "#replacing the bottom 99% 's unique ID number with 'unknown'\n",
    "#this will help when getting dummies\n",
    "movies.replace(replacable_directors, 'unknown', inplace=True)\n",
    "movies.replace(replacable_writers, 'unknown', inplace=True)"
   ]
  },
  {
   "cell_type": "code",
   "execution_count": 12,
   "metadata": {},
   "outputs": [],
   "source": [
    "#get dummies for: genres directors, writers\n",
    "genre_dummies = pd.get_dummies(movies['genres'])\n",
    "director_dummies = pd.get_dummies(movies['directors'])\n",
    "writer_dummies = pd.get_dummies(movies['writers'])\n",
    "\n",
    "frames = [movies['startYear'], genre_dummies, director_dummies, writer_dummies, movies['runtimeMinutes'], movies['averageRating']]"
   ]
  },
  {
   "cell_type": "markdown",
   "metadata": {},
   "source": [
    "## Getting DataFrame Ready for ML"
   ]
  },
  {
   "cell_type": "code",
   "execution_count": 49,
   "metadata": {},
   "outputs": [],
   "source": [
    "#creating a ready for model df that has only the relavant features and target\n",
    "ready_for_model = pd.concat(frames, axis=1)\n",
    "ready_for_model = ready_for_model.drop(['unknown'], axis=1)"
   ]
  },
  {
   "cell_type": "markdown",
   "metadata": {},
   "source": [
    "## Linear Regression"
   ]
  },
  {
   "cell_type": "code",
   "execution_count": 50,
   "metadata": {},
   "outputs": [],
   "source": [
    "import sklearn.model_selection as sk\n",
    "import sklearn.metrics as sk"
   ]
  },
  {
   "cell_type": "code",
   "execution_count": 51,
   "metadata": {},
   "outputs": [],
   "source": [
    "#features are: year, genre dummies, writer/director dummies, runtime\n",
    "X = ready_for_model.drop(['averageRating'], axis=1)\n",
    "#target is: average rating\n",
    "y = ready_for_model['averageRating']"
   ]
  },
  {
   "cell_type": "code",
   "execution_count": 52,
   "metadata": {},
   "outputs": [],
   "source": [
    "# train test split, fit, and prediction\n",
    "X_train, X_test, y_train, y_test = train_test_split(X, y)\n",
    "model = LinearRegression()\n",
    "model.fit(X_train, y_train)\n",
    "predicted = model.predict(X_test)"
   ]
  },
  {
   "cell_type": "code",
   "execution_count": 53,
   "metadata": {},
   "outputs": [],
   "source": [
    "#measuring model with rmse\n",
    "rmse = sk.mean_squared_error(y_test, pred)"
   ]
  }
 ],
 "metadata": {
  "kernelspec": {
   "display_name": "Python 3",
   "language": "python",
   "name": "python3"
  },
  "language_info": {
   "codemirror_mode": {
    "name": "ipython",
    "version": 3
   },
   "file_extension": ".py",
   "mimetype": "text/x-python",
   "name": "python",
   "nbconvert_exporter": "python",
   "pygments_lexer": "ipython3",
   "version": "3.8.2"
  }
 },
 "nbformat": 4,
 "nbformat_minor": 4
}
